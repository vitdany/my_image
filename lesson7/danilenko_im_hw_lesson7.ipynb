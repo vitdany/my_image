{
 "cells": [
  {
   "cell_type": "code",
   "execution_count": 185,
   "metadata": {},
   "outputs": [],
   "source": [
    "import os\n",
    "import glob\n",
    "import random\n",
    "import numpy as np\n",
    "import matplotlib.pyplot as plt\n",
    "import cv2\n",
    "import tensorflow as tf\n",
    "%matplotlib inline"
   ]
  },
  {
   "cell_type": "markdown",
   "metadata": {},
   "source": [
    "# Обработка видео\n",
    "Классификация действий по видео"
   ]
  },
  {
   "cell_type": "code",
   "execution_count": 186,
   "metadata": {},
   "outputs": [],
   "source": [
    "from PIL import Image\n",
    "def getframes(filename):\n",
    "    video_1 = cv2.VideoCapture(filename)\n",
    "    frames = []\n",
    "    n=0\n",
    "    while (video_1.isOpened()):\n",
    "        ret, frame = video_1.read()\n",
    "        if n>1000:\n",
    "            frame = Image.fromarray(frame[:,:,1])\n",
    "            frame = frame.resize( (32, 32) )\n",
    "            frame = np.array(frame).reshape( (32, 32, 1) )\n",
    "            frames.append(frame.astype(np.float32)/255.)\n",
    "        n+=1\n",
    "        if n>1100:\n",
    "            break\n",
    "    return np.array(frames)\n",
    "\n"
   ]
  },
  {
   "cell_type": "code",
   "execution_count": 187,
   "metadata": {},
   "outputs": [],
   "source": [
    "frames_lecture = getframes('7.mp4')"
   ]
  },
  {
   "cell_type": "code",
   "execution_count": 188,
   "metadata": {},
   "outputs": [],
   "source": [
    "frames_practice = getframes('Practice_7.mp4')"
   ]
  },
  {
   "cell_type": "code",
   "execution_count": 189,
   "metadata": {},
   "outputs": [],
   "source": [
    "lecture_lables = np.zeros(len(frames_lecture)).astype(np.int32)\n",
    "practice_lables = np.ones(len(frames_lecture)).astype(np.int32)"
   ]
  },
  {
   "cell_type": "code",
   "execution_count": 190,
   "metadata": {
    "scrolled": true
   },
   "outputs": [
    {
     "data": {
      "text/plain": [
       "<matplotlib.image.AxesImage at 0x7f85291b7310>"
      ]
     },
     "execution_count": 190,
     "metadata": {},
     "output_type": "execute_result"
    },
    {
     "data": {
      "image/png": "[encoded data removed]",
      "text/plain": [
       "<Figure size 640x480 with 1 Axes>"
      ]
     },
     "metadata": {},
     "output_type": "display_data"
    }
   ],
   "source": [
    "\n",
    "plt.imshow(frames_lecture[1])"
   ]
  },
  {
   "cell_type": "code",
   "execution_count": 191,
   "metadata": {},
   "outputs": [
    {
     "name": "stdout",
     "output_type": "stream",
     "text": [
      "(100, 32, 32, 1) float32\n"
     ]
    }
   ],
   "source": [
    "print(frames_lecture.shape, frames_lecture.dtype)"
   ]
  },
  {
   "cell_type": "code",
   "execution_count": 192,
   "metadata": {
    "scrolled": true
   },
   "outputs": [
    {
     "name": "stdout",
     "output_type": "stream",
     "text": [
      "(100,) int32\n"
     ]
    }
   ],
   "source": [
    "print(lecture_lables.shape, lecture_lables.dtype) "
   ]
  },
  {
   "cell_type": "code",
   "execution_count": 193,
   "metadata": {},
   "outputs": [],
   "source": [
    "x = np.concatenate((frames_lecture, frames_practice), axis=0)"
   ]
  },
  {
   "cell_type": "code",
   "execution_count": 194,
   "metadata": {},
   "outputs": [
    {
     "data": {
      "text/plain": [
       "(200, 32, 32, 1)"
      ]
     },
     "execution_count": 194,
     "metadata": {},
     "output_type": "execute_result"
    }
   ],
   "source": [
    "x.shape"
   ]
  },
  {
   "cell_type": "code",
   "execution_count": 195,
   "metadata": {},
   "outputs": [],
   "source": [
    "y = np.concatenate((lecture_lables, practice_lables), axis=0)"
   ]
  },
  {
   "cell_type": "code",
   "execution_count": 196,
   "metadata": {},
   "outputs": [
    {
     "data": {
      "text/plain": [
       "1"
      ]
     },
     "execution_count": 196,
     "metadata": {},
     "output_type": "execute_result"
    }
   ],
   "source": [
    "y[120]"
   ]
  },
  {
   "cell_type": "code",
   "execution_count": 208,
   "metadata": {},
   "outputs": [],
   "source": [
    "#Формируем датасет\n",
    "dataset = tf.data.Dataset.zip((tf.data.Dataset.from_tensor_slices(x),\n",
    "                               tf.data.Dataset.from_tensor_slices(y)))"
   ]
  },
  {
   "cell_type": "code",
   "execution_count": 209,
   "metadata": {},
   "outputs": [],
   "source": [
    "dataset= dataset.shuffle(len(dataset))"
   ]
  },
  {
   "cell_type": "code",
   "execution_count": 210,
   "metadata": {},
   "outputs": [
    {
     "name": "stdout",
     "output_type": "stream",
     "text": [
      "140\n"
     ]
    }
   ],
   "source": [
    "#Размер train выборки\n",
    "train_size = int(0.7*len(dataset))\n",
    "print(train_size)\n",
    "#Делим на train и test\n",
    "train_dataset = dataset.take(train_size).cache()\n",
    "test_dataset = dataset.skip(train_size).take(len(dataset) - train_size).cache()"
   ]
  },
  {
   "cell_type": "code",
   "execution_count": 211,
   "metadata": {},
   "outputs": [],
   "source": [
    "BATCH_SIZE = 16\n",
    "train_dataset = train_dataset.batch(BATCH_SIZE)\n",
    "test_dataset = test_dataset.batch(BATCH_SIZE)"
   ]
  },
  {
   "cell_type": "code",
   "execution_count": 212,
   "metadata": {},
   "outputs": [
    {
     "name": "stdout",
     "output_type": "stream",
     "text": [
      "tf.Tensor([0 1 1 1 0 0 0 1 0 1 1 1 1 0 1 0], shape=(16,), dtype=int32)\n",
      "(16, 32, 32, 1)\n"
     ]
    },
    {
     "data": {
      "image/png": "[encoded data removed]",
      "text/plain": [
       "<Figure size 600x600 with 1 Axes>"
      ]
     },
     "metadata": {},
     "output_type": "display_data"
    }
   ],
   "source": [
    "plt.figure(figsize=(6,6))\n",
    "for im, lable in train_dataset.take(1):\n",
    "    print(lable) \n",
    "    print(im.shape)\n",
    "    plt.imshow((im[0]*255).numpy().astype(\"uint8\"))\n",
    "    plt.axis(\"off\")\n",
    "    break\n"
   ]
  },
  {
   "cell_type": "code",
   "execution_count": 213,
   "metadata": {},
   "outputs": [],
   "source": [
    "model = tf.keras.models.Sequential([\n",
    "    tf.keras.layers.Conv2D(32, (5, 5), padding='same', activation='relu'),\n",
    "    tf.keras.layers.MaxPool2D((2, 2), (2, 2)),\n",
    "    tf.keras.layers.Conv2D(64, (5, 5), padding='same', activation='relu'),\n",
    "    tf.keras.layers.MaxPool2D((2, 2), (2, 2)),\n",
    "    tf.keras.layers.Flatten(),\n",
    "    tf.keras.layers.Dense(256, activation='relu'),\n",
    "    tf.keras.layers.Dense(1, activation=None)\n",
    "])"
   ]
  },
  {
   "cell_type": "code",
   "execution_count": 214,
   "metadata": {},
   "outputs": [],
   "source": [
    "model.compile(optimizer=tf.keras.optimizers.Adam(0.001),\n",
    "              loss='mse',#'sparse_categorical_crossentropy',\n",
    "              metrics=['accuracy'])"
   ]
  },
  {
   "cell_type": "code",
   "execution_count": 215,
   "metadata": {},
   "outputs": [
    {
     "name": "stdout",
     "output_type": "stream",
     "text": [
      "Epoch 1/5\n",
      "9/9 [==============================] - 1s 2ms/step - loss: 0.4916 - accuracy: 0.4571\n",
      "Epoch 2/5\n",
      "9/9 [==============================] - 0s 1ms/step - loss: 0.2036 - accuracy: 0.6857\n",
      "Epoch 3/5\n",
      "9/9 [==============================] - 0s 1ms/step - loss: 0.0206 - accuracy: 1.0000\n",
      "Epoch 4/5\n",
      "9/9 [==============================] - 0s 1ms/step - loss: 0.0137 - accuracy: 1.0000\n",
      "Epoch 5/5\n",
      "9/9 [==============================] - 0s 1ms/step - loss: 0.0049 - accuracy: 1.0000\n"
     ]
    },
    {
     "data": {
      "text/plain": [
       "<keras.callbacks.History at 0x7f85a033dc10>"
      ]
     },
     "execution_count": 215,
     "metadata": {},
     "output_type": "execute_result"
    }
   ],
   "source": [
    "NUM_EPOCHS = 5\n",
    "#model.fit(x, y, epochs=NUM_EPOCHS)\n",
    "model.fit(train_dataset, epochs=NUM_EPOCHS)"
   ]
  },
  {
   "cell_type": "code",
   "execution_count": 216,
   "metadata": {},
   "outputs": [
    {
     "name": "stdout",
     "output_type": "stream",
     "text": [
      "4/4 [==============================] - 0s 1ms/step\n"
     ]
    }
   ],
   "source": [
    "predict = model.predict(test_dataset)"
   ]
  },
  {
   "cell_type": "code",
   "execution_count": 218,
   "metadata": {},
   "outputs": [
    {
     "name": "stdout",
     "output_type": "stream",
     "text": [
      "-0.04386731 0\n",
      "-0.08195928 0\n",
      "-0.08041845 0\n",
      "0.97414404 1\n",
      "0.97414404 1\n",
      "0.97414404 1\n",
      "0.97414404 1\n",
      "0.97414404 1\n",
      "-0.07633731 0\n",
      "0.97414404 1\n",
      "-0.06646685 0\n",
      "0.97414404 1\n",
      "-0.04236376 0\n",
      "-0.07619245 0\n",
      "0.97414404 1\n",
      "-0.07317126 0\n"
     ]
    },
    {
     "data": {
      "text/plain": [
       "<Figure size 600x600 with 0 Axes>"
      ]
     },
     "metadata": {},
     "output_type": "display_data"
    }
   ],
   "source": [
    "plt.figure(figsize=(6,6))\n",
    "for im, lable in test_dataset.take(1):\n",
    "  \n",
    "    for i in range(BATCH_SIZE):\n",
    "        print(predict[i][0], lable[i].numpy()  )\n"
   ]
  }
 ],
 "metadata": {
  "kernelspec": {
   "display_name": "Python 3",
   "language": "python",
   "name": "python3"
  },
  "language_info": {
   "codemirror_mode": {
    "name": "ipython",
    "version": 3
   },
   "file_extension": ".py",
   "mimetype": "text/x-python",
   "name": "python",
   "nbconvert_exporter": "python",
   "pygments_lexer": "ipython3",
   "version": "3.8.10"
  }
 },
 "nbformat": 4,
 "nbformat_minor": 2
}
